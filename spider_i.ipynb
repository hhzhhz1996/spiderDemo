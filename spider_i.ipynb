{
 "cells": [
  {
   "cell_type": "code",
   "execution_count": 3,
   "id": "6054b05c585b1f45",
   "metadata": {
    "collapsed": false,
    "ExecuteTime": {
     "end_time": "2024-02-07T03:06:15.375818Z",
     "start_time": "2024-02-07T03:06:15.372338Z"
    }
   },
   "outputs": [],
   "source": [
    "import requests\n",
    "from bs4 import BeautifulSoup"
   ]
  },
  {
   "cell_type": "code",
   "outputs": [],
   "source": [
    "url = (\"https://www.bigbigwork.com/wh/w1.html?t=dz&utm_source=baidu&utm_medium=sem\"\n",
    "       \"&utm_campaign=%28免%29-Gratisography&utm_content=核心词\"\n",
    "       \"&utm_term=gratisography&bd_vid=8667216400394607439\")  # 替换为您要爬取的网页URL\n",
    "\n",
    "save_path = ''"
   ],
   "metadata": {
    "collapsed": false,
    "ExecuteTime": {
     "end_time": "2024-02-07T03:06:17.488965Z",
     "start_time": "2024-02-07T03:06:17.485421Z"
    }
   },
   "id": "d177404df1101030",
   "execution_count": 4
  },
  {
   "cell_type": "code",
   "outputs": [
    {
     "name": "stdout",
     "output_type": "stream",
     "text": [
      "Title: 大作-设计灵感搜索引擎\n",
      "Links: ['//dz-img.bigbigwork.com/t/lb_t1_1.jpg?x-oss-process=style/pc_jpg', 'https://dz-img.bigbigwork.com/w/wh/w1/titleImg_w1.svg', 'https://xcx-img.bigbigwork.com/p/ssr/search_btn.png', '//dz-img.bigbigwork.com/t/t1/1.jpg?x-oss-process=image/interlace,1/resize,m_fill,w_236,h_220,type_6/quality,Q_85/sharpen,60/format,jpg', 'https://dz-img.bigbigwork.com/pimg/onLoad_img.png', '//dz-img.bigbigwork.com/t/t1/2.jpg?x-oss-process=image/interlace,1/resize,m_fill,w_236,h_220,type_6/quality,Q_85/sharpen,60/format,jpg', 'https://dz-img.bigbigwork.com/pimg/onLoad_img.png', '//dz-img.bigbigwork.com/t/t1/3.jpg?x-oss-process=image/interlace,1/resize,m_fill,w_236,h_220,type_6/quality,Q_85/sharpen,60/format,jpg', 'https://dz-img.bigbigwork.com/pimg/onLoad_img.png', '//dz-img.bigbigwork.com/t/t1/4.jpg?x-oss-process=image/interlace,1/resize,m_fill,w_236,h_220,type_6/quality,Q_85/sharpen,60/format,jpg', 'https://dz-img.bigbigwork.com/pimg/onLoad_img.png', '//dz-img.bigbigwork.com/t/t1/5.jpg?x-oss-process=image/interlace,1/resize,m_fill,w_236,h_220,type_6/quality,Q_85/sharpen,60/format,jpg', 'https://dz-img.bigbigwork.com/pimg/onLoad_img.png', '//dz-img.bigbigwork.com/t/t1/6.jpg?x-oss-process=image/interlace,1/resize,m_fill,w_236,h_220,type_6/quality,Q_85/sharpen,60/format,jpg', 'https://dz-img.bigbigwork.com/pimg/onLoad_img.png', '//dz-img.bigbigwork.com/t/t1/7.jpg?x-oss-process=image/interlace,1/resize,m_fill,w_236,h_220,type_6/quality,Q_85/sharpen,60/format,jpg', 'https://dz-img.bigbigwork.com/pimg/onLoad_img.png', '//dz-img.bigbigwork.com/t/t1/8.jpg?x-oss-process=image/interlace,1/resize,m_fill,w_236,h_220,type_6/quality,Q_85/sharpen,60/format,jpg', 'https://dz-img.bigbigwork.com/pimg/onLoad_img.png', '//dz-img.bigbigwork.com/t/t1/9.jpg?x-oss-process=image/interlace,1/resize,m_fill,w_236,h_220,type_6/quality,Q_85/sharpen,60/format,jpg', 'https://dz-img.bigbigwork.com/pimg/onLoad_img.png', '//dz-img.bigbigwork.com/t/t1/10.jpg?x-oss-process=image/interlace,1/resize,m_fill,w_236,h_220,type_6/quality,Q_85/sharpen,60/format,jpg', 'https://dz-img.bigbigwork.com/pimg/onLoad_img.png', '//dz-img.bigbigwork.com/t/t1/11.jpg?x-oss-process=image/interlace,1/resize,m_fill,w_236,h_220,type_6/quality,Q_85/sharpen,60/format,jpg', 'https://dz-img.bigbigwork.com/pimg/onLoad_img.png', '//dz-img.bigbigwork.com/t/t1/12.jpg?x-oss-process=image/interlace,1/resize,m_fill,w_236,h_220,type_6/quality,Q_85/sharpen,60/format,jpg', 'https://dz-img.bigbigwork.com/pimg/onLoad_img.png', '//dz-img.bigbigwork.com/t/t1/13.jpg?x-oss-process=image/interlace,1/resize,m_fill,w_236,h_220,type_6/quality,Q_85/sharpen,60/format,jpg', 'https://dz-img.bigbigwork.com/pimg/onLoad_img.png', '//dz-img.bigbigwork.com/t/t1/14.jpg?x-oss-process=image/interlace,1/resize,m_fill,w_236,h_220,type_6/quality,Q_85/sharpen,60/format,jpg', 'https://dz-img.bigbigwork.com/pimg/onLoad_img.png', '//dz-img.bigbigwork.com/t/t1/15.jpg?x-oss-process=image/interlace,1/resize,m_fill,w_236,h_220,type_6/quality,Q_85/sharpen,60/format,jpg', 'https://dz-img.bigbigwork.com/pimg/onLoad_img.png', '//dz-img.bigbigwork.com/t/t1/16.jpg?x-oss-process=image/interlace,1/resize,m_fill,w_236,h_220,type_6/quality,Q_85/sharpen,60/format,jpg', 'https://dz-img.bigbigwork.com/pimg/onLoad_img.png', '//dz-img.bigbigwork.com/t/t1/17.jpg?x-oss-process=image/interlace,1/resize,m_fill,w_236,h_220,type_6/quality,Q_85/sharpen,60/format,jpg', 'https://dz-img.bigbigwork.com/pimg/onLoad_img.png', '//dz-img.bigbigwork.com/t/t1/18.jpg?x-oss-process=image/interlace,1/resize,m_fill,w_236,h_220,type_6/quality,Q_85/sharpen,60/format,jpg', 'https://dz-img.bigbigwork.com/pimg/onLoad_img.png', '//dz-img.bigbigwork.com/t/t1/19.jpg?x-oss-process=image/interlace,1/resize,m_fill,w_236,h_220,type_6/quality,Q_85/sharpen,60/format,jpg', 'https://dz-img.bigbigwork.com/pimg/onLoad_img.png', '//dz-img.bigbigwork.com/t/t1/20.jpg?x-oss-process=image/interlace,1/resize,m_fill,w_236,h_220,type_6/quality,Q_85/sharpen,60/format,jpg', 'https://dz-img.bigbigwork.com/pimg/onLoad_img.png', 'https://xcx-img.bigbigwork.com/p/images/ssr-fxnewjainbtn.png', 'https://dz-img.bigbigwork.com/3w/footer-logo.svg', 'https://xcx.bigbigwork.com/p/images/ssr-fxbottom-code1.png', 'https://xcx-img.bigbigwork.com/p/images/ssr-fxbottom-code2.png']\n"
     ]
    }
   ],
   "source": [
    "try:\n",
    "    # 发送HTTP请求\n",
    "    response = requests.get(url)\n",
    "    response.raise_for_status()  # 检查请求是否成功\n",
    "    response.encoding = response.apparent_encoding  # 设置响应编码\n",
    "\n",
    "    # 解析网页内容\n",
    "    soup = BeautifulSoup(response.text, 'html.parser')\n",
    "\n",
    "    # 提取标题\n",
    "    title = soup.title.string if soup.title else \"No Title\"\n",
    "    print(\"Title:\", title)\n",
    "\n",
    "    # 提取链接\n",
    "    links = [a['src'] for a in soup.find_all('img')]\n",
    "    print(\"Links:\", links)\n",
    "\n",
    "except requests.RequestException as e:\n",
    "    print(\"Error:\", str(e))"
   ],
   "metadata": {
    "collapsed": true,
    "ExecuteTime": {
     "end_time": "2024-02-07T03:06:21.285342Z",
     "start_time": "2024-02-07T03:06:21.007988Z"
    }
   },
   "id": "initial_id",
   "execution_count": 5
  },
  {
   "cell_type": "code",
   "outputs": [],
   "source": [],
   "metadata": {
    "collapsed": false
   },
   "id": "523f88abeef2e6a5"
  }
 ],
 "metadata": {
  "kernelspec": {
   "display_name": "Python 3",
   "language": "python",
   "name": "python3"
  },
  "language_info": {
   "codemirror_mode": {
    "name": "ipython",
    "version": 2
   },
   "file_extension": ".py",
   "mimetype": "text/x-python",
   "name": "python",
   "nbconvert_exporter": "python",
   "pygments_lexer": "ipython2",
   "version": "2.7.6"
  }
 },
 "nbformat": 4,
 "nbformat_minor": 5
}
